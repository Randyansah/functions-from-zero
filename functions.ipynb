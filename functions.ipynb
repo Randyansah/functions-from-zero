{
  "nbformat": 4,
  "nbformat_minor": 0,
  "metadata": {
    "colab": {
      "provenance": [],
      "authorship_tag": "ABX9TyPz4WQq3BV4ht+R/u8SQV4R",
      "include_colab_link": true
    },
    "kernelspec": {
      "name": "python3",
      "display_name": "Python 3"
    },
    "language_info": {
      "name": "python"
    }
  },
  "cells": [
    {
      "cell_type": "markdown",
      "metadata": {
        "id": "view-in-github",
        "colab_type": "text"
      },
      "source": [
        "<a href=\"https://colab.research.google.com/github/Randyansah/functions-from-zero/blob/main/functions.ipynb\" target=\"_parent\"><img src=\"https://colab.research.google.com/assets/colab-badge.svg\" alt=\"Open In Colab\"/></a>"
      ]
    },
    {
      "cell_type": "markdown",
      "source": [
        "## Styles for functions"
      ],
      "metadata": {
        "id": "5tzlqQpGzgIr"
      }
    },
    {
      "cell_type": "code",
      "execution_count": 1,
      "metadata": {
        "id": "L5odbFoazC2Z"
      },
      "outputs": [],
      "source": [
        "def simple():pass\n"
      ]
    },
    {
      "cell_type": "code",
      "source": [
        "def simple2():\n",
        "  print(\"simple\")"
      ],
      "metadata": {
        "id": "txaUPSaOzuJb"
      },
      "execution_count": 2,
      "outputs": []
    },
    {
      "cell_type": "code",
      "source": [
        "simple2()"
      ],
      "metadata": {
        "colab": {
          "base_uri": "https://localhost:8080/"
        },
        "id": "ga0HDKVbzz5j",
        "outputId": "b3a4b1c1-5f26-4cea-dd75-3bd7a328d40d"
      },
      "execution_count": 3,
      "outputs": [
        {
          "output_type": "stream",
          "name": "stdout",
          "text": [
            "simple\n"
          ]
        }
      ]
    },
    {
      "cell_type": "markdown",
      "source": [
        "Most useful function\n"
      ],
      "metadata": {
        "id": "ZuC3AFpDz6bH"
      }
    },
    {
      "cell_type": "code",
      "source": [
        "def my_worker(fruit):\n",
        "  statement=f\"My favorite meal is chicken and {fruit}\"\n",
        "  meals={\"dinner\":statement}\n",
        "  return meals"
      ],
      "metadata": {
        "id": "4a0qZGVuz97x"
      },
      "execution_count": 4,
      "outputs": []
    },
    {
      "cell_type": "code",
      "source": [
        "meal=my_worker(\"banku\")"
      ],
      "metadata": {
        "id": "B_uVjjfG0gFq"
      },
      "execution_count": 5,
      "outputs": []
    },
    {
      "cell_type": "code",
      "source": [
        "type(meal)"
      ],
      "metadata": {
        "colab": {
          "base_uri": "https://localhost:8080/"
        },
        "id": "jEWVXliw0riR",
        "outputId": "1cbb16a3-cab9-467a-84b9-b8d70e839848"
      },
      "execution_count": 6,
      "outputs": [
        {
          "output_type": "execute_result",
          "data": {
            "text/plain": [
              "dict"
            ]
          },
          "metadata": {},
          "execution_count": 6
        }
      ]
    },
    {
      "cell_type": "code",
      "source": [
        "def human(food):\n",
        "  consume=food[\"dinner\"]\n",
        "  return consume"
      ],
      "metadata": {
        "id": "MxMvAHvb0uqo"
      },
      "execution_count": 8,
      "outputs": []
    },
    {
      "cell_type": "code",
      "source": [
        "my_meal=human(meal)\n",
        "print(f\"I want my meal.it will be {my_meal}\")"
      ],
      "metadata": {
        "colab": {
          "base_uri": "https://localhost:8080/"
        },
        "id": "OH_7PuoG1FeP",
        "outputId": "e753fb8e-f2ac-4466-b417-459851016c10"
      },
      "execution_count": 9,
      "outputs": [
        {
          "output_type": "stream",
          "name": "stdout",
          "text": [
            "I want my meal.it will be My favorite meal is chicken and banku\n"
          ]
        }
      ]
    }
  ]
}