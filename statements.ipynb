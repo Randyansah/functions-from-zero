{
  "nbformat": 4,
  "nbformat_minor": 0,
  "metadata": {
    "colab": {
      "provenance": [],
      "authorship_tag": "ABX9TyOVrxsgE04KJ5a2iWKQh/37",
      "include_colab_link": true
    },
    "kernelspec": {
      "name": "python3",
      "display_name": "Python 3"
    },
    "language_info": {
      "name": "python"
    }
  },
  "cells": [
    {
      "cell_type": "markdown",
      "metadata": {
        "id": "view-in-github",
        "colab_type": "text"
      },
      "source": [
        "<a href=\"https://colab.research.google.com/github/Randyansah/functions-from-zero/blob/main/statements.ipynb\" target=\"_parent\"><img src=\"https://colab.research.google.com/assets/colab-badge.svg\" alt=\"Open In Colab\"/></a>"
      ]
    },
    {
      "cell_type": "markdown",
      "source": [
        "## STATEMENTS\n"
      ],
      "metadata": {
        "id": "W8SWdsywcVW6"
      }
    },
    {
      "cell_type": "markdown",
      "source": [
        "### VARIABLES\n"
      ],
      "metadata": {
        "id": "0pLVr6xqceFB"
      }
    },
    {
      "cell_type": "code",
      "execution_count": null,
      "metadata": {
        "id": "qkklBTO1cIlS"
      },
      "outputs": [],
      "source": [
        "VARIABLES=1\n"
      ]
    }
  ]
}